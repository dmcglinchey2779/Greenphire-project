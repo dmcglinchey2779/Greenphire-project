{
 "cells": [
  {
   "cell_type": "code",
   "execution_count": 1,
   "metadata": {
    "collapsed": false
   },
   "outputs": [
    {
     "name": "stdout",
     "output_type": "stream",
     "text": [
      "Press y if you want to enter your powerball favorite numbers. y\n",
      "What is your first name? Daniel\n",
      "What is your last name? McGlinchey\n",
      "Please enter your favorite number between 1 and 69. 70\n",
      "That number is not valid. Please enter a number between 1 and 69. 22\n",
      "Please enter your favorite number between 1 and 69. 22\n",
      "You already entered that number. Enter another favorite between 1 and 69. 23\n",
      "Please enter your favorite number between 1 and 69. 55\n",
      "Please enter your favorite number between 1 and 69. 33\n",
      "Please enter your favorite number between 1 and 69. 41\n",
      "Please enter a number between 1 and 26 for your powerball favorite. 27\n",
      "Your powerball number must be between 1 and 26. Try again. 22\n",
      "Press y if you want to enter your powerball favorites. n\n"
     ]
    }
   ],
   "source": [
    "powerball_data_for_calculator = {}\n",
    "powerball_entries = input('Press y if you want to enter your powerball favorite numbers. ')\n",
    "while powerball_entries == 'y':\n",
    "    first_name = input(\"What is your first name? \")\n",
    "    first_name\n",
    "    last_name = input(\"What is your last name? \")\n",
    "    last_name\n",
    "\n",
    "    #we draw five white balls out of a drum with 69 balls and one red ball out of a drum with 26 red balls\n",
    "    first_five = []\n",
    "\n",
    "\n",
    "    for number in range(5):\n",
    "        number = int(input(\"Please enter your favorite number between 1 and 69. \"))\n",
    "        while number < 1 or number > 69:\n",
    "            number = int(input(\"That number is not valid. Please enter a number between 1 and 69. \"))\n",
    "        while number in first_five:\n",
    "            number = int(input(\"You already entered that number. Enter another favorite between 1 and 69. \"))\n",
    "\n",
    "        first_five.append(number)\n",
    "\n",
    "    first_five\n",
    "\n",
    "    power_ball_number_six = int(input(\"Please enter a number between 1 and 26 for your powerball favorite. \"))\n",
    "    while power_ball_number_six < 1 or power_ball_number_six > 26:\n",
    "        power_ball_number_six = int(input(\"Your powerball number must be between 1 and 26. Try again. \"))\n",
    "\n",
    "\n",
    "\n",
    "    power_ball_number_six\n",
    "\n",
    "    \n",
    "\n",
    "    powerball_data_for_calculator[last_name + \"_\" + first_name] = \\\n",
    "    {'1st': first_five[0], '2nd': first_five[1], '3rd': first_five[2], \\\n",
    "     '4th': first_five[3], '5th': first_five[4], 'Powerball': power_ball_number_six}\n",
    "\n",
    "    powerball_data_for_calculator\n",
    "\n",
    "    powerball_entries = input(\"Press y if you want to enter your powerball favorites. \")"
   ]
  },
  {
   "cell_type": "code",
   "execution_count": 2,
   "metadata": {
    "collapsed": false
   },
   "outputs": [
    {
     "data": {
      "text/plain": [
       "{'McGlinchey_Daniel': {'1st': 22,\n",
       "  '2nd': 23,\n",
       "  '3rd': 55,\n",
       "  '4th': 33,\n",
       "  '5th': 41,\n",
       "  'Powerball': 22}}"
      ]
     },
     "execution_count": 2,
     "metadata": {},
     "output_type": "execute_result"
    }
   ],
   "source": [
    "powerball_data_for_calculator"
   ]
  },
  {
   "cell_type": "code",
   "execution_count": 3,
   "metadata": {
    "collapsed": false
   },
   "outputs": [
    {
     "data": {
      "text/plain": [
       "dict_items([('McGlinchey_Daniel', {'1st': 22, '2nd': 23, '3rd': 55, '4th': 33, '5th': 41, 'Powerball': 22})])"
      ]
     },
     "execution_count": 3,
     "metadata": {},
     "output_type": "execute_result"
    }
   ],
   "source": [
    "powerball_data_for_calculator.items()"
   ]
  },
  {
   "cell_type": "code",
   "execution_count": 4,
   "metadata": {
    "collapsed": false
   },
   "outputs": [
    {
     "name": "stdout",
     "output_type": "stream",
     "text": [
      "[22]\n",
      "[23]\n",
      "Powerball winning number:\n",
      "22 23 55 33 41 Powerball:  22\n"
     ]
    }
   ],
   "source": [
    "from collections import Counter\n",
    "\n",
    "def powerball_duplicates(position):\n",
    "    powerball_by_position = []\n",
    "    for employee,powerball in powerball_data_for_calculator.items():\n",
    "        if position in powerball.keys():\n",
    "            #print(powerball[position])\n",
    "            powerball_by_position.append(powerball[position])\n",
    "    return powerball_by_position\n",
    "\n",
    "\n",
    "\n",
    "            \n",
    "first_position = powerball_duplicates('1st')\n",
    "second_position = powerball_duplicates('2nd')\n",
    "third_position = powerball_duplicates('3rd')\n",
    "fourth_position = powerball_duplicates('4th')\n",
    "fifth_position = powerball_duplicates('5th')\n",
    "Powerball_position = powerball_duplicates('Powerball')\n",
    "\n",
    "print(first_position)\n",
    "print(second_position)\n",
    "#elements with equal counts are ordered arbitrarily so random selection breaks a tie\n",
    "most_first = Counter(first_position).most_common(1)\n",
    "most_second = Counter(second_position).most_common(1)\n",
    "most_third = Counter(third_position).most_common(1)\n",
    "most_fourth = Counter(fourth_position).most_common(1)\n",
    "most_fifth = Counter(fifth_position).most_common(1)\n",
    "most_powerball = Counter(Powerball_position).most_common(1)\n",
    "\n",
    "powerball_winning_number = []\n",
    "\n",
    "powerball_winning_number.append(most_first[0])\n",
    "powerball_winning_number.append(most_second[0])\n",
    "powerball_winning_number.append(most_third[0])\n",
    "powerball_winning_number.append(most_fourth[0])\n",
    "powerball_winning_number.append(most_fifth[0])\n",
    "#powerball_winning_number.append(most_powerball[0])\n",
    "\n",
    "powerball_winning_number\n",
    "\n",
    "print(\"Powerball winning number:\")\n",
    "\n",
    "for most_fav in powerball_winning_number:\n",
    "    print(most_fav[0], end=' ')\n",
    "    \n",
    "print(\"Powerball: \", end = ' ') \n",
    "for most_fav in most_powerball:\n",
    "    print(most_fav[0])\n",
    "   \n",
    "    \n",
    "    \n",
    "\n",
    "\n",
    "\n"
   ]
  },
  {
   "cell_type": "code",
   "execution_count": 5,
   "metadata": {
    "collapsed": false
   },
   "outputs": [
    {
     "name": "stdout",
     "output_type": "stream",
     "text": [
      "McGlinchey_Daniel      22 23 55 33 41 22 \n"
     ]
    }
   ],
   "source": [
    "\n",
    "for employee,powerball in powerball_data_for_calculator.items():\n",
    "    print(employee, end='      ')\n",
    "    for position in powerball.keys():\n",
    "        print(powerball[position], end=' ')\n",
    "    print()\n",
    "            \n",
    "\n",
    "        "
   ]
  },
  {
   "cell_type": "code",
   "execution_count": null,
   "metadata": {
    "collapsed": true
   },
   "outputs": [],
   "source": []
  }
 ],
 "metadata": {
  "kernelspec": {
   "display_name": "Python 3",
   "language": "python",
   "name": "python3"
  },
  "language_info": {
   "codemirror_mode": {
    "name": "ipython",
    "version": 3
   },
   "file_extension": ".py",
   "mimetype": "text/x-python",
   "name": "python",
   "nbconvert_exporter": "python",
   "pygments_lexer": "ipython3",
   "version": "3.6.0"
  }
 },
 "nbformat": 4,
 "nbformat_minor": 2
}
