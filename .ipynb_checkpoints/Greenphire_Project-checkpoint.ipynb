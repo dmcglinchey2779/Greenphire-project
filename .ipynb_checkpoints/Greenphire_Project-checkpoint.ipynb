{
 "cells": [
  {
   "cell_type": "code",
   "execution_count": 1,
   "metadata": {
    "collapsed": false
   },
   "outputs": [
    {
     "name": "stdout",
     "output_type": "stream",
     "text": [
      "What is your first name? Daniel\n"
     ]
    }
   ],
   "source": [
    "first_name = input(\"What is your first name? \")"
   ]
  },
  {
   "cell_type": "code",
   "execution_count": 2,
   "metadata": {
    "collapsed": false
   },
   "outputs": [
    {
     "data": {
      "text/plain": [
       "'Daniel'"
      ]
     },
     "execution_count": 2,
     "metadata": {},
     "output_type": "execute_result"
    }
   ],
   "source": [
    "first_name\n",
    "\n"
   ]
  },
  {
   "cell_type": "code",
   "execution_count": 3,
   "metadata": {
    "collapsed": false
   },
   "outputs": [
    {
     "name": "stdout",
     "output_type": "stream",
     "text": [
      "What is your last name? McGlinchey\n"
     ]
    }
   ],
   "source": [
    "last_name = input(\"What is your last name? \")"
   ]
  },
  {
   "cell_type": "code",
   "execution_count": 4,
   "metadata": {
    "collapsed": false
   },
   "outputs": [
    {
     "data": {
      "text/plain": [
       "'McGlinchey'"
      ]
     },
     "execution_count": 4,
     "metadata": {},
     "output_type": "execute_result"
    }
   ],
   "source": [
    "last_name\n"
   ]
  },
  {
   "cell_type": "code",
   "execution_count": 18,
   "metadata": {
    "collapsed": false
   },
   "outputs": [
    {
     "name": "stdout",
     "output_type": "stream",
     "text": [
      "Please enter your favorite number between 1 and 69. 15\n",
      "Please enter your favorite number between 1 and 69. 15\n",
      "You already entered that number. Enter another favorite between 1 and 69. 12\n",
      "Please enter your favorite number between 1 and 69. 10\n",
      "Please enter your favorite number between 1 and 69. 5\n",
      "Please enter your favorite number between 1 and 69. 10\n",
      "You already entered that number. Enter another favorite between 1 and 69. 7\n"
     ]
    }
   ],
   "source": [
    "\n",
    "first_five = []\n",
    "\n",
    "\n",
    "for number in range(5):\n",
    "    number = int(input(\"Please enter your favorite number between 1 and 69. \"))\n",
    "    if number not in first_five:\n",
    "        first_five.append(number)\n",
    "    else:\n",
    "        number = int(input(\"You already entered that number. Enter another favorite between 1 and 69. \"))\n",
    "        if number not in first_five:\n",
    "            first_five.append(number)\n",
    "        else:\n",
    "            number = int(input(\"You already entered that number. Enter another favorite between 1 and 69. \"))\n",
    "            first_five.append(number)\n",
    "    "
   ]
  },
  {
   "cell_type": "code",
   "execution_count": 19,
   "metadata": {
    "collapsed": false
   },
   "outputs": [
    {
     "data": {
      "text/plain": [
       "[15, 12, 10, 5, 7]"
      ]
     },
     "execution_count": 19,
     "metadata": {},
     "output_type": "execute_result"
    }
   ],
   "source": [
    "number\n",
    "first_five\n"
   ]
  },
  {
   "cell_type": "code",
   "execution_count": null,
   "metadata": {
    "collapsed": true
   },
   "outputs": [],
   "source": [
    "powerball_data_for_calculator = {}\n",
    "\n"
   ]
  }
 ],
 "metadata": {
  "kernelspec": {
   "display_name": "Python 3",
   "language": "python",
   "name": "python3"
  },
  "language_info": {
   "codemirror_mode": {
    "name": "ipython",
    "version": 3
   },
   "file_extension": ".py",
   "mimetype": "text/x-python",
   "name": "python",
   "nbconvert_exporter": "python",
   "pygments_lexer": "ipython3",
   "version": "3.6.0"
  }
 },
 "nbformat": 4,
 "nbformat_minor": 2
}
