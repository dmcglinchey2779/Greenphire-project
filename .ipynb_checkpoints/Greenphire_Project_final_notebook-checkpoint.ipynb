{
 "cells": [
  {
   "cell_type": "code",
   "execution_count": 1,
   "metadata": {
    "collapsed": false
   },
   "outputs": [
    {
     "name": "stdout",
     "output_type": "stream",
     "text": [
      "Press y if you want to enter your powerball favorite numbers. y\n",
      "What is your first name? dan\n",
      "What is your last name? mcg\n",
      "Please enter your favorite number between 1 and 69. 1\n",
      "Please enter your favorite number between 1 and 69. 5\n",
      "Please enter your favorite number between 1 and 69. 11\n",
      "Please enter your favorite number between 1 and 69. 15\n",
      "Please enter your favorite number between 1 and 69. 21\n",
      "Please enter a number between 1 and 26 for your powerball favorite. 22\n",
      "Press y if you want to enter your powerball favorites. y\n",
      "What is your first name? dave\n",
      "What is your last name? mike\n",
      "Please enter your favorite number between 1 and 69. 11\n",
      "Please enter your favorite number between 1 and 69. 55\n",
      "Please enter your favorite number between 1 and 69. 5\n",
      "Please enter your favorite number between 1 and 69. 15\n",
      "Please enter your favorite number between 1 and 69. 22\n",
      "Please enter a number between 1 and 26 for your powerball favorite. 22\n",
      "Press y if you want to enter your powerball favorites. y\n",
      "What is your first name? mary\n",
      "What is your last name? polly\n",
      "Please enter your favorite number between 1 and 69. 11\n",
      "Please enter your favorite number between 1 and 69. 21\n",
      "Please enter your favorite number between 1 and 69. 31\n",
      "Please enter your favorite number between 1 and 69. 41\n",
      "Please enter your favorite number between 1 and 69. 51\n",
      "Please enter a number between 1 and 26 for your powerball favorite. 11\n",
      "Press y if you want to enter your powerball favorites. y\n",
      "What is your first name? mike\n",
      "What is your last name? mirk\n",
      "Please enter your favorite number between 1 and 69. 15\n",
      "Please enter your favorite number between 1 and 69. 5\n",
      "Please enter your favorite number between 1 and 69. 23\n",
      "Please enter your favorite number between 1 and 69. 22\n",
      "Please enter your favorite number between 1 and 69. 21\n",
      "Please enter a number between 1 and 26 for your powerball favorite. 2\n",
      "Press y if you want to enter your powerball favorites. n\n"
     ]
    }
   ],
   "source": [
    "#The jackpot is won by matching all five white balls in any order and the red Powerball\n",
    "#For future analysis, data will preserve the order in which entries are made\n",
    "from collections import Counter\n",
    "\n",
    "powerball_data_for_calculator = {}\n",
    "powerball_entries = input('Press y if you want to enter your powerball favorite numbers. ')\n",
    "while powerball_entries == 'y':\n",
    "    first_name = input(\"What is your first name? \")\n",
    "    first_name\n",
    "    last_name = input(\"What is your last name? \")\n",
    "    last_name\n",
    "\n",
    "    #we draw five white balls out of a drum with 69 balls and one red ball out of a drum with 26 red balls\n",
    "    first_five = []\n",
    "\n",
    "\n",
    "    for number in range(5):\n",
    "        number = int(input(\"Please enter your favorite number between 1 and 69. \"))\n",
    "        while number < 1 or number > 69:\n",
    "            number = int(input(\"That number is not valid. Please enter a number between 1 and 69. \"))\n",
    "        while number in first_five:\n",
    "            number = int(input(\"You already entered that number. Enter another favorite between 1 and 69. \"))\n",
    "\n",
    "        first_five.append(number)\n",
    "\n",
    "    #print(first_five)\n",
    "\n",
    "    power_ball_number_six = int(input(\"Please enter a number between 1 and 26 for your powerball favorite. \"))\n",
    "    while power_ball_number_six < 1 or power_ball_number_six > 26:\n",
    "        power_ball_number_six = int(input(\"Your powerball number must be between 1 and 26. Try again. \"))\n",
    "\n",
    "\n",
    "\n",
    "    #print(power_ball_number_six)\n",
    "\n",
    "    \n",
    "\n",
    "    powerball_data_for_calculator[last_name + \"_\" + first_name] = \\\n",
    "    {'1st': first_five[0], '2nd': first_five[1], '3rd': first_five[2], \\\n",
    "     '4th': first_five[3], '5th': first_five[4], 'Powerball': power_ball_number_six}\n",
    "\n",
    "   \n",
    "\n",
    "    powerball_entries = input(\"Press y if you want to enter your powerball favorites. Press n to end entries. \")"
   ]
  },
  {
   "cell_type": "code",
   "execution_count": 18,
   "metadata": {
    "collapsed": false
   },
   "outputs": [],
   "source": [
    "#print(powerball_data_for_calculator)"
   ]
  },
  {
   "cell_type": "code",
   "execution_count": 20,
   "metadata": {
    "collapsed": false
   },
   "outputs": [],
   "source": [
    "#print(powerball_data_for_calculator.items())"
   ]
  },
  {
   "cell_type": "code",
   "execution_count": 16,
   "metadata": {
    "collapsed": false
   },
   "outputs": [
    {
     "name": "stdout",
     "output_type": "stream",
     "text": [
      "[1, 11, 11, 15, 5, 55, 21, 5, 11, 5, 31, 23, 15, 15, 41, 22, 21, 22, 51, 21]\n",
      "[(11, 3), (15, 3), (5, 3), (21, 3), (22, 2)]\n",
      "[(22, 2)]\n",
      "[11, 15, 5, 21, 22]\n"
     ]
    }
   ],
   "source": [
    "#get entries by order of entry by each employee\n",
    "\n",
    "def powerball_duplicates(position):\n",
    "    powerball_by_position = []\n",
    "    for employee,powerball in powerball_data_for_calculator.items():\n",
    "        if position in powerball.keys():\n",
    "            #print(powerball[position])\n",
    "            powerball_by_position.append(powerball[position])\n",
    "    return powerball_by_position\n",
    "\n",
    "#Add all entries to list for counting of employee unique entries for the aggregate duplicates\n",
    "\n",
    "all_entries = []\n",
    "\n",
    "\n",
    "def aggregate_entries(data):\n",
    "    for data_point in data:\n",
    "        all_entries.append(data_point)\n",
    "        \n",
    "aggregate_entries(powerball_duplicates('1st'))\n",
    "aggregate_entries(powerball_duplicates('2nd'))\n",
    "aggregate_entries(powerball_duplicates('3rd'))\n",
    "aggregate_entries(powerball_duplicates('4th'))\n",
    "aggregate_entries(powerball_duplicates('5th'))\n",
    "\n",
    "\n",
    "\n",
    "#print(all_entries)\n",
    "\n",
    "#Counter.most_common() returns the number and its count as a tuple - limit return to the top five\n",
    "#elements with equal counts are ordered arbitrarily meeting the tie-breaker requirement\n",
    "\n",
    "top_five_favorites = Counter(all_entries).most_common(5)\n",
    "            \n",
    "#print(top_five_favorites)\n",
    "\n",
    "top_powerball_favorite = Counter(powerball_duplicates('Powerball')).most_common(1)\n",
    "\n",
    "#print(top_powerball_favorite)\n",
    "\n",
    "powerball_winning_number = []\n",
    "\n",
    "for favorite in top_five_favorites:\n",
    "    powerball_winning_number.append(favorite[0])\n",
    "    \n",
    "    \n",
    "print(powerball_winning_number)\n",
    "\n",
    "\n",
    "\n",
    "    \n",
    "\n",
    "\n",
    "\n"
   ]
  },
  {
   "cell_type": "code",
   "execution_count": 27,
   "metadata": {
    "collapsed": false
   },
   "outputs": [
    {
     "name": "stdout",
     "output_type": "stream",
     "text": [
      "mcg_dan      1 5 11 15 21 Powerball: 22 \n",
      "mike_dave      11 55 5 15 22 Powerball: 22 \n",
      "polly_mary      11 21 31 41 51 Powerball: 11 \n",
      "mirk_mike      15 5 23 22 21 Powerball: 2 \n"
     ]
    }
   ],
   "source": [
    "#print out employee entries\n",
    "for employee,powerball in powerball_data_for_calculator.items():\n",
    "    print(employee, end='      ')\n",
    "    for position in powerball.keys():\n",
    "        if position == 'Powerball':\n",
    "            print('Powerball:', end=' ')\n",
    "        print(powerball[position], end=' ')\n",
    "    print()\n",
    "            \n",
    "\n",
    "        "
   ]
  },
  {
   "cell_type": "code",
   "execution_count": 24,
   "metadata": {
    "collapsed": false
   },
   "outputs": [
    {
     "name": "stdout",
     "output_type": "stream",
     "text": [
      "Powerball winning number: \n",
      "11 15 5 21 22 Powerball: 22\n"
     ]
    }
   ],
   "source": [
    "print('Powerball winning number: ')\n",
    "for number in powerball_winning_number:\n",
    "    print(number, end=' ')\n",
    "    \n",
    "print('Powerball:', end=' ')\n",
    "for favorite in top_powerball_favorite:\n",
    "    print(favorite[0])\n",
    "    "
   ]
  },
  {
   "cell_type": "code",
   "execution_count": null,
   "metadata": {
    "collapsed": true
   },
   "outputs": [],
   "source": []
  }
 ],
 "metadata": {
  "kernelspec": {
   "display_name": "Python 3",
   "language": "python",
   "name": "python3"
  },
  "language_info": {
   "codemirror_mode": {
    "name": "ipython",
    "version": 3
   },
   "file_extension": ".py",
   "mimetype": "text/x-python",
   "name": "python",
   "nbconvert_exporter": "python",
   "pygments_lexer": "ipython3",
   "version": "3.6.0"
  }
 },
 "nbformat": 4,
 "nbformat_minor": 2
}
