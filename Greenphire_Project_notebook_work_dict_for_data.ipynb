{
 "cells": [
  {
   "cell_type": "code",
   "execution_count": null,
   "metadata": {
    "collapsed": false
   },
   "outputs": [
    {
     "name": "stdout",
     "output_type": "stream",
     "text": [
      "Press y if you want to enter your powerball favorite numbers. y\n",
      "What is your first name? Daniel\n",
      "What is your first name? McGlinchey\n"
     ]
    }
   ],
   "source": [
    "powerball_entries = input('Press y if you want to enter your powerball favorite numbers. ')\n",
    "while powerball_entries == 'y':\n",
    "    first_name = input(\"What is your first name? \")"
   ]
  },
  {
   "cell_type": "code",
   "execution_count": null,
   "metadata": {
    "collapsed": false
   },
   "outputs": [],
   "source": [
    "    first_name\n",
    "\n"
   ]
  },
  {
   "cell_type": "code",
   "execution_count": null,
   "metadata": {
    "collapsed": false
   },
   "outputs": [],
   "source": [
    "    last_name = input(\"What is your last name? \")"
   ]
  },
  {
   "cell_type": "code",
   "execution_count": null,
   "metadata": {
    "collapsed": false
   },
   "outputs": [],
   "source": [
    "    last_name\n"
   ]
  },
  {
   "cell_type": "code",
   "execution_count": null,
   "metadata": {
    "collapsed": false
   },
   "outputs": [],
   "source": [
    "    #we draw five white balls out of a drum with 69 balls and one red ball out of a drum with 26 red balls\n",
    "    first_five = []\n",
    "\n",
    "\n",
    "    for number in range(5):\n",
    "        number = int(input(\"Please enter your favorite number between 1 and 69. \"))\n",
    "        while number in first_five:\n",
    "            number = int(input(\"You already entered that number. Enter another favorite between 1 and 69. \"))\n",
    "\n",
    "        first_five.append(number)\n",
    "\n",
    "    "
   ]
  },
  {
   "cell_type": "code",
   "execution_count": null,
   "metadata": {
    "collapsed": false
   },
   "outputs": [],
   "source": [
    "    number\n",
    "    first_five\n"
   ]
  },
  {
   "cell_type": "code",
   "execution_count": null,
   "metadata": {
    "collapsed": false
   },
   "outputs": [],
   "source": [
    "    power_ball_number_six = int(input(\"Please enter a number between 1 and 26 for your powerball favorite. \"))\n",
    "\n",
    "\n",
    "\n",
    "    power_ball_number_six"
   ]
  },
  {
   "cell_type": "code",
   "execution_count": null,
   "metadata": {
    "collapsed": false
   },
   "outputs": [],
   "source": [
    "    powerball_data_for_calculator = {}\n",
    "\n",
    "    powerball_data_for_calculator[last_name + \"_\" + first_name] = \\\n",
    "    {'1st': first_five[0], '2nd': first_five[1], '3rd': first_five[2], \\\n",
    "     '4th': first_five[3], '5th': first_five[4], 'Powerball': power_ball_number_six}\n",
    "\n",
    "    powerball_data_for_calculator\n",
    "\n",
    "\n",
    "\n",
    "\n",
    "\n"
   ]
  },
  {
   "cell_type": "code",
   "execution_count": null,
   "metadata": {
    "collapsed": false
   },
   "outputs": [],
   "source": [
    "    powerball_data_for_calculator"
   ]
  },
  {
   "cell_type": "code",
   "execution_count": null,
   "metadata": {
    "collapsed": true
   },
   "outputs": [],
   "source": [
    "    powerball_entries = input(\"Press y if you want to enter your powerball favorites. \")"
   ]
  }
 ],
 "metadata": {
  "kernelspec": {
   "display_name": "Python 3",
   "language": "python",
   "name": "python3"
  },
  "language_info": {
   "codemirror_mode": {
    "name": "ipython",
    "version": 3
   },
   "file_extension": ".py",
   "mimetype": "text/x-python",
   "name": "python",
   "nbconvert_exporter": "python",
   "pygments_lexer": "ipython3",
   "version": "3.6.0"
  }
 },
 "nbformat": 4,
 "nbformat_minor": 2
}
