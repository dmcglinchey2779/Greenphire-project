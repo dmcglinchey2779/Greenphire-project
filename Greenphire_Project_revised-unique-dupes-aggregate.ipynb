{
 "cells": [
  {
   "cell_type": "code",
   "execution_count": 5,
   "metadata": {
    "collapsed": false
   },
   "outputs": [
    {
     "ename": "SyntaxError",
     "evalue": "invalid syntax (<ipython-input-5-2bc119d33f7e>, line 39)",
     "output_type": "error",
     "traceback": [
      "\u001b[0;36m  File \u001b[0;32m\"<ipython-input-5-2bc119d33f7e>\"\u001b[0;36m, line \u001b[0;32m39\u001b[0m\n\u001b[0;31m    powerball_entries = input(\"Press y if you want to enter your powerball favorites. \")\u001b[0m\n\u001b[0m                    ^\u001b[0m\n\u001b[0;31mSyntaxError\u001b[0m\u001b[0;31m:\u001b[0m invalid syntax\n"
     ]
    }
   ],
   "source": [
    "powerball_entries_by_employee = {}\n",
    "powerball_entries = input('Press y if you want to enter your powerball favorite numbers. ')\n",
    "while powerball_entries == 'y':\n",
    "    first_name = input(\"What is your first name? \")\n",
    "    first_name\n",
    "    last_name = input(\"What is your last name? \")\n",
    "    last_name\n",
    "\n",
    "    #we draw five white balls out of a drum with 69 balls and one red ball out of a drum with 26 red balls\n",
    "    first_five = []\n",
    "\n",
    "\n",
    "    for number in range(5):\n",
    "        number = int(input(\"Please enter your favorite number between 1 and 69. \"))\n",
    "        while number < 1 or number > 69:\n",
    "            number = int(input(\"That number is not valid. Please enter a number between 1 and 69. \"))\n",
    "        while number in first_five:\n",
    "            number = int(input(\"You already entered that number. Enter another favorite between 1 and 69. \"))\n",
    "\n",
    "        first_five.append(number)\n",
    "\n",
    "    first_five\n",
    "\n",
    "    power_ball_number_six = int(input(\"Please enter a number between 1 and 26 for your powerball favorite. \"))\n",
    "    while power_ball_number_six < 1 or power_ball_number_six > 26:\n",
    "        power_ball_number_six = int(input(\"Your powerball number must be between 1 and 26. Try again. \"))\n",
    "\n",
    "\n",
    "\n",
    "    power_ball_number_six\n",
    "\n",
    "    \n",
    "\n",
    "    powerball_entries_by_employee[last_name + \"_\" + first_name] = [[first_five[0], first_five[1], first_five[2], first_five[3], first_five[4],power_ball_number_six]\n",
    "    \n",
    "\n",
    "\n",
    "\n",
    "    powerball_entries = input(\"Press y if you want to enter your powerball favorites. \")"
   ]
  },
  {
   "cell_type": "code",
   "execution_count": null,
   "metadata": {
    "collapsed": false
   },
   "outputs": [],
   "source": [
    "powerball_data_for_calculator"
   ]
  },
  {
   "cell_type": "code",
   "execution_count": null,
   "metadata": {
    "collapsed": false
   },
   "outputs": [],
   "source": [
    "powerball_data_for_calculator.items()"
   ]
  },
  {
   "cell_type": "code",
   "execution_count": null,
   "metadata": {
    "collapsed": true
   },
   "outputs": [],
   "source": []
  },
  {
   "cell_type": "code",
   "execution_count": null,
   "metadata": {
    "collapsed": false
   },
   "outputs": [],
   "source": [
    "from collections import Counter\n",
    "\n",
    "def powerball_duplicates(position):\n",
    "    powerball_by_position = []\n",
    "    for employee,powerball in powerball_data_for_calculator.items():\n",
    "        if position in powerball.keys():\n",
    "            #print(powerball[position])\n",
    "            powerball_by_position.append(powerball[position])\n",
    "    return powerball_by_position\n",
    "\n",
    "\n",
    "\n",
    "            \n",
    "first_position = powerball_duplicates('1st')\n",
    "second_position = powerball_duplicates('2nd')\n",
    "third_position = powerball_duplicates('3rd')\n",
    "fourth_position = powerball_duplicates('4th')\n",
    "fifth_position = powerball_duplicates('5th')\n",
    "Powerball_position = powerball_duplicates('Powerball')\n",
    "\n",
    "print(first_position)\n",
    "print(second_position)\n",
    "#elements with equal counts are ordered arbitrarily so random selection breaks a tie\n",
    "most_first = Counter(first_position).most_common(1)\n",
    "most_second = Counter(second_position).most_common(1)\n",
    "most_third = Counter(third_position).most_common(1)\n",
    "most_fourth = Counter(fourth_position).most_common(1)\n",
    "most_fifth = Counter(fifth_position).most_common(1)\n",
    "most_powerball = Counter(Powerball_position).most_common(1)\n",
    "\n",
    "powerball_winning_number = []\n",
    "\n",
    "powerball_winning_number.append(most_first[0])\n",
    "powerball_winning_number.append(most_second[0])\n",
    "powerball_winning_number.append(most_third[0])\n",
    "powerball_winning_number.append(most_fourth[0])\n",
    "powerball_winning_number.append(most_fifth[0])\n",
    "#powerball_winning_number.append(most_powerball[0])\n",
    "\n",
    "powerball_winning_number\n",
    "\n",
    "print(\"Powerball winning number:\")\n",
    "\n",
    "for most_fav in powerball_winning_number:\n",
    "    print(most_fav[0], end=' ')\n",
    "    \n",
    "print(\"Powerball: \", end = ' ') \n",
    "for most_fav in most_powerball:\n",
    "    print(most_fav[0])\n",
    "   \n",
    "    \n",
    "    \n",
    "\n",
    "\n",
    "\n"
   ]
  },
  {
   "cell_type": "code",
   "execution_count": null,
   "metadata": {
    "collapsed": false
   },
   "outputs": [],
   "source": [
    "\n",
    "for employee,powerball in powerball_data_for_calculator.items():\n",
    "    print(employee, end='      ')\n",
    "    for position in powerball.keys():\n",
    "        print(powerball[position], end=' ')\n",
    "    print()\n",
    "            \n",
    "\n",
    "        "
   ]
  },
  {
   "cell_type": "code",
   "execution_count": null,
   "metadata": {
    "collapsed": true
   },
   "outputs": [],
   "source": []
  }
 ],
 "metadata": {
  "kernelspec": {
   "display_name": "Python 3",
   "language": "python",
   "name": "python3"
  },
  "language_info": {
   "codemirror_mode": {
    "name": "ipython",
    "version": 3
   },
   "file_extension": ".py",
   "mimetype": "text/x-python",
   "name": "python",
   "nbconvert_exporter": "python",
   "pygments_lexer": "ipython3",
   "version": "3.6.0"
  }
 },
 "nbformat": 4,
 "nbformat_minor": 2
}
