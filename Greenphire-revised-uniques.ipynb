{
 "cells": [
  {
   "cell_type": "code",
   "execution_count": 2,
   "metadata": {
    "collapsed": false
   },
   "outputs": [
    {
     "name": "stdout",
     "output_type": "stream",
     "text": [
      "Press y if you want to enter your powerball favorite numbers. y\n",
      "What is your first name? dan\n",
      "What is your last name? mcg\n",
      "Please enter your favorite number between 1 and 69. 1\n",
      "Please enter your favorite number between 1 and 69. 2\n",
      "Please enter your favorite number between 1 and 69. 3\n",
      "Please enter your favorite number between 1 and 69. 4\n",
      "Please enter your favorite number between 1 and 69. 5\n",
      "Please enter a number between 1 and 26 for your powerball favorite. 6\n",
      "{'Employee_Entries': {'dan mcg'}}\n",
      "Press y if you want to enter your powerball favorites. y\n",
      "What is your first name? dave\n",
      "What is your last name? sheep\n",
      "Please enter your favorite number between 1 and 69. 1\n",
      "Please enter your favorite number between 1 and 69. 2\n",
      "Please enter your favorite number between 1 and 69. 3\n",
      "Please enter your favorite number between 1 and 69. 4\n",
      "Please enter your favorite number between 1 and 69. 5\n",
      "Please enter a number between 1 and 26 for your powerball favorite. 6\n",
      "{'Employee_Entries': {'dave sheep'}}\n",
      "Press y if you want to enter your powerball favorites. n\n"
     ]
    }
   ],
   "source": [
    "powerball_entries_by_employee = {}\n",
    "powerball_entries = input('Press y if you want to enter your powerball favorite numbers. ')\n",
    "while powerball_entries == 'y':\n",
    "    first_name = input(\"What is your first name? \")\n",
    "    first_name\n",
    "    last_name = input(\"What is your last name? \")\n",
    "    last_name\n",
    "\n",
    "    #we draw five white balls out of a drum with 69 balls and one red ball out of a drum with 26 red balls\n",
    "    first_five = []\n",
    "\n",
    "\n",
    "    for number in range(5):\n",
    "        number = int(input(\"Please enter your favorite number between 1 and 69. \"))\n",
    "        while number < 1 or number > 69:\n",
    "            number = int(input(\"That number is not valid. Please enter a number between 1 and 69. \"))\n",
    "        while number in first_five:\n",
    "            number = int(input(\"You already entered that number. Enter another favorite between 1 and 69. \"))\n",
    "\n",
    "        first_five.append(number)\n",
    "\n",
    "    first_five\n",
    "\n",
    "    power_ball_number_six = int(input(\"Please enter a number between 1 and 26 for your powerball favorite. \"))\n",
    "    while power_ball_number_six < 1 or power_ball_number_six > 26:\n",
    "        power_ball_number_six = int(input(\"Your powerball number must be between 1 and 26. Try again. \"))\n",
    "\n",
    "\n",
    "\n",
    "    power_ball_number_six\n",
    "\n",
    "    \n",
    "\n",
    "    powerball_entries_by_employee['Employee_Entries'] = {first_name + ' ' + last_name}\n",
    "    \n",
    "    \n",
    "\n",
    "    print(powerball_entries_by_employee)\n",
    "\n",
    "    powerball_entries = input(\"Press y if you want to enter your powerball favorites. \")"
   ]
  },
  {
   "cell_type": "code",
   "execution_count": 3,
   "metadata": {
    "collapsed": false
   },
   "outputs": [
    {
     "name": "stdout",
     "output_type": "stream",
     "text": [
      "{'Employee_Entries': {'dave sheep'}}\n"
     ]
    }
   ],
   "source": [
    "print(powerball_entries_by_employee)"
   ]
  },
  {
   "cell_type": "code",
   "execution_count": null,
   "metadata": {
    "collapsed": true
   },
   "outputs": [],
   "source": [
    "from collections import Counter\n",
    "\n",
    "def count_duplicate_entries(data):\n",
    "    \n",
    "    "
   ]
  }
 ],
 "metadata": {
  "kernelspec": {
   "display_name": "Python 3",
   "language": "python",
   "name": "python3"
  },
  "language_info": {
   "codemirror_mode": {
    "name": "ipython",
    "version": 3
   },
   "file_extension": ".py",
   "mimetype": "text/x-python",
   "name": "python",
   "nbconvert_exporter": "python",
   "pygments_lexer": "ipython3",
   "version": "3.6.0"
  }
 },
 "nbformat": 4,
 "nbformat_minor": 2
}
